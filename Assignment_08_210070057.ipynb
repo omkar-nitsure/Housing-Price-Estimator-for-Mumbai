{
 "cells": [
  {
   "cell_type": "markdown",
   "metadata": {},
   "source": [
    "# ASSIGNMENT 8 - Deep Learning Assignment\n",
    "# NAME - Omkar Nitsure\n",
    "# ROLL NO - 210070057"
   ]
  },
  {
   "cell_type": "code",
   "execution_count": 1,
   "metadata": {},
   "outputs": [],
   "source": [
    "import numpy as np                      # Importing Essential libraries\n",
    "\n",
    "import pandas as pd\n",
    "\n",
    "import matplotlib.pyplot as plt\n",
    "\n",
    "import seaborn as sns\n",
    "\n",
    "import scipy\n",
    "\n",
    "import statistics as st\n",
    "\n",
    "import sklearn"
   ]
  },
  {
   "cell_type": "code",
   "execution_count": 2,
   "metadata": {},
   "outputs": [],
   "source": [
    "np.random.seed(0)\n",
    "X1 = np.random.uniform(size=10000)\n",
    "X2 = 3.5*np.random.uniform(size=10000) - 2.5"
   ]
  },
  {
   "cell_type": "code",
   "execution_count": 5,
   "metadata": {},
   "outputs": [],
   "source": [
    "from math import log\n",
    "\n",
    "Y1 = []\n",
    "Y2 = []\n",
    "\n",
    "for index in range(0, 10000):\n",
    "    y1 = log(X1[index] + 0.1)\n",
    "    y2 = X2[index]**3 + 2*(X2[index])**2 - X2[index] -2\n",
    "    Y1.append(y1)\n",
    "    Y2.append(y2)"
   ]
  }
 ],
 "metadata": {
  "kernelspec": {
   "display_name": "Python 3.10.8 64-bit",
   "language": "python",
   "name": "python3"
  },
  "language_info": {
   "codemirror_mode": {
    "name": "ipython",
    "version": 3
   },
   "file_extension": ".py",
   "mimetype": "text/x-python",
   "name": "python",
   "nbconvert_exporter": "python",
   "pygments_lexer": "ipython3",
   "version": "3.10.8"
  },
  "orig_nbformat": 4,
  "vscode": {
   "interpreter": {
    "hash": "6d8bcec56a5dcd1ee8ebc6caf8a40aee15fe737ebbdbaffd6d3bd5ff977cb14f"
   }
  }
 },
 "nbformat": 4,
 "nbformat_minor": 2
}
